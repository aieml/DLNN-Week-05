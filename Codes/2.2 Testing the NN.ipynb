{
 "cells": [
  {
   "cell_type": "code",
   "execution_count": 1,
   "metadata": {},
   "outputs": [
    {
     "name": "stderr",
     "output_type": "stream",
     "text": [
      "Using TensorFlow backend.\n"
     ]
    }
   ],
   "source": [
    "from keras.models import Sequential\n",
    "from keras.layers import Dense,Activation,Flatten\n",
    "from keras.layers import Conv2D,MaxPooling2D\n",
    "\n",
    "def load_cnn():\n",
    "    \n",
    "    model=Sequential()\n",
    "\n",
    "    model.add(Conv2D(256,(3,3),input_shape=()))\n",
    "    model.add(Activation('relu'))\n",
    "    model.add(MaxPooling2D(pool_size=(2,2)))\n",
    "    #The first CNN layer followed by Relu and MaxPooling layers\n",
    "\n",
    "    model.add(Conv2D(128,(3,3)))\n",
    "    model.add(Activation('relu'))\n",
    "    model.add(MaxPooling2D(pool_size=(2,2)))\n",
    "    #The second convolution layer followed by Relu and MaxPooling layers\n",
    "\n",
    "    model.add(Flatten())\n",
    "    #Flatten layer to stack the output convolutions from second convolution layer\n",
    "    model.add(Dense(64,activation='relu'))\n",
    "    #Dense layer of 64 neurons\n",
    "    model.add(Dense(2,activation='softmax'))\n",
    "    #The Final layer with two outputs for two categories\n",
    "\n",
    "    model.compile(loss='categorical_crossentropy',optimizer='adam',metrics=['accuracy'])\n",
    "    \n",
    "    model.load_weights('cats&dogs_v1.h5')\n",
    "    \n",
    "    return model"
   ]
  },
  {
   "cell_type": "code",
   "execution_count": 2,
   "metadata": {},
   "outputs": [
    {
     "ename": "KeyboardInterrupt",
     "evalue": "",
     "output_type": "error",
     "traceback": [
      "\u001b[1;31m---------------------------------------------------------------------------\u001b[0m",
      "\u001b[1;31mKeyboardInterrupt\u001b[0m                         Traceback (most recent call last)",
      "\u001b[1;32m<ipython-input-2-5abb79cefe17>\u001b[0m in \u001b[0;36m<module>\u001b[1;34m\u001b[0m\n\u001b[0;32m     32\u001b[0m \u001b[1;33m\u001b[0m\u001b[0m\n\u001b[0;32m     33\u001b[0m     \u001b[0mcv2\u001b[0m\u001b[1;33m.\u001b[0m\u001b[0mimshow\u001b[0m\u001b[1;33m(\u001b[0m\u001b[1;34m'LIVE'\u001b[0m\u001b[1;33m,\u001b[0m\u001b[0mimg\u001b[0m\u001b[1;33m)\u001b[0m\u001b[1;33m\u001b[0m\u001b[1;33m\u001b[0m\u001b[0m\n\u001b[1;32m---> 34\u001b[1;33m     \u001b[0mcv2\u001b[0m\u001b[1;33m.\u001b[0m\u001b[0mwaitKey\u001b[0m\u001b[1;33m(\u001b[0m\u001b[1;36m1000\u001b[0m\u001b[1;33m)\u001b[0m\u001b[1;33m\u001b[0m\u001b[1;33m\u001b[0m\u001b[0m\n\u001b[0m\u001b[0;32m     35\u001b[0m \u001b[1;33m\u001b[0m\u001b[0m\n\u001b[0;32m     36\u001b[0m     \u001b[1;31m#print(result,label,prob),\u001b[0m\u001b[1;33m\u001b[0m\u001b[1;33m\u001b[0m\u001b[1;33m\u001b[0m\u001b[0m\n",
      "\u001b[1;31mKeyboardInterrupt\u001b[0m: "
     ]
    }
   ],
   "source": [
    "import cv2,os\n",
    "import numpy as np\n",
    "\n",
    "test_path='test1'\n",
    "\n",
    "img_names=os.listdir(test_path)\n",
    "\n",
    "model=load_cnn()\n",
    "\n",
    "category={0:'Cat',1:'Dog'}\n",
    "\n",
    "for img_name in img_names:\n",
    "    img_path=os.path.join(test_path,img_name)\n",
    "    img=cv2.imread(img_path)\n",
    "    gray=cv2.cvtColor(img,cv2.COLOR_BGR2GRAY)\n",
    "    resized=cv2.resize(gray,(50,50))\n",
    "    normalized=resized/255.0\n",
    "    reshaped=np.reshape(normalized,(1,50,50,1))\n",
    "    \n",
    "    result=model.predict(reshaped)\n",
    "    label=np.argmax(result,axis=1)[0]\n",
    "    prob=np.max(result,axis=1)[0]\n",
    "    prob=round(prob,2)*100\n",
    "    \n",
    "    img[:50,:]=[0,255,0]\n",
    "    \n",
    "    cv2.putText(img,str(category[label]),(10,40),cv2.FONT_HERSHEY_SIMPLEX,2,\n",
    "                (255,255,255),2)\n",
    "    \n",
    "    cv2.putText(img,str(prob),(200,40),cv2.FONT_HERSHEY_SIMPLEX,2,\n",
    "                (255,255,255),2)\n",
    "    \n",
    "    cv2.imshow('LIVE',img)\n",
    "    cv2.waitKey(1000)\n",
    "    \n",
    "    #print(result,label,prob),"
   ]
  },
  {
   "cell_type": "code",
   "execution_count": null,
   "metadata": {},
   "outputs": [],
   "source": [
    "img.shape"
   ]
  },
  {
   "cell_type": "code",
   "execution_count": null,
   "metadata": {},
   "outputs": [],
   "source": []
  }
 ],
 "metadata": {
  "kernelspec": {
   "display_name": "Python 3",
   "language": "python",
   "name": "python3"
  },
  "language_info": {
   "codemirror_mode": {
    "name": "ipython",
    "version": 3
   },
   "file_extension": ".py",
   "mimetype": "text/x-python",
   "name": "python",
   "nbconvert_exporter": "python",
   "pygments_lexer": "ipython3",
   "version": "3.7.4"
  }
 },
 "nbformat": 4,
 "nbformat_minor": 2
}
